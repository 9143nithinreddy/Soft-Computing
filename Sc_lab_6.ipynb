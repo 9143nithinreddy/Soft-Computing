{
  "nbformat": 4,
  "nbformat_minor": 0,
  "metadata": {
    "colab": {
      "provenance": [],
      "authorship_tag": "ABX9TyP/6yJyP1Oydhs7f8lDcS+L",
      "include_colab_link": true
    },
    "kernelspec": {
      "name": "python3",
      "display_name": "Python 3"
    },
    "language_info": {
      "name": "python"
    }
  },
  "cells": [
    {
      "cell_type": "markdown",
      "metadata": {
        "id": "view-in-github",
        "colab_type": "text"
      },
      "source": [
        "<a href=\"https://colab.research.google.com/github/9143nithinreddy/Soft-Computing/blob/main/Sc_lab_6.ipynb\" target=\"_parent\"><img src=\"https://colab.research.google.com/assets/colab-badge.svg\" alt=\"Open In Colab\"/></a>"
      ]
    },
    {
      "cell_type": "code",
      "execution_count": 1,
      "metadata": {
        "colab": {
          "base_uri": "https://localhost:8080/"
        },
        "id": "bUBFkdDwENSo",
        "outputId": "a425d441-3422-4caf-f443-ca1a4a6b25c2"
      },
      "outputs": [
        {
          "output_type": "stream",
          "name": "stdout",
          "text": [
            "Weights vector after Hebb learning:\n",
            " [ 2. -2. -2. -2.  2.  0.  0.  0.  0.  2.  0.  0.  0.  0.  2.  0.  0.  0.\n",
            "  0.  0.]\n"
          ]
        }
      ],
      "source": [
        "import numpy as np\n",
        "\n",
        "# Convert pattern of '+' and ' ' to +1 and -1 respectively\n",
        "def pattern_to_vector(pattern):\n",
        "    \"\"\"\n",
        "    pattern: list of strings representing rows\n",
        "    '+' -> 1, ' ' -> -1\n",
        "    \"\"\"\n",
        "    vector = []\n",
        "    for row in pattern:\n",
        "        for ch in row:\n",
        "            if ch == '+':\n",
        "                vector.append(1)\n",
        "            else:\n",
        "                vector.append(-1)\n",
        "    return np.array(vector)\n",
        "\n",
        "# Sample patterns (4x5)\n",
        "pattern_S = [\n",
        "    \"+   +\",\n",
        "    \"+   +\",\n",
        "    \"+   +\",\n",
        "    \" +++ \"\n",
        "]\n",
        "\n",
        "pattern_C = [\n",
        "    \" +++ \",\n",
        "    \"+    \",\n",
        "    \"+    \",\n",
        "    \" +++ \"\n",
        "]\n",
        "\n",
        "# Convert to vectors\n",
        "x_S = pattern_to_vector(pattern_S)\n",
        "x_C = pattern_to_vector(pattern_C)\n",
        "\n",
        "# Targets\n",
        "y_S = 1\n",
        "y_C = -1\n",
        "\n",
        "# Initialize weights vector with zeros (length 20)\n",
        "weights = np.zeros(len(x_S))\n",
        "\n",
        "# Learning rate\n",
        "eta = 1\n",
        "\n",
        "# Hebb rule update for S (class 1)\n",
        "weights += eta * y_S * x_S\n",
        "\n",
        "# Hebb rule update for C (class -1)\n",
        "weights += eta * y_C * x_C\n",
        "\n",
        "print(\"Weights vector after Hebb learning:\\n\", weights)\n"
      ]
    },
    {
      "cell_type": "code",
      "source": [
        "import numpy as np\n",
        "\n",
        "# Input vectors (4 samples, each with 4 features)\n",
        "x1 = np.array([1.0, -2, 1.5, 0.0])\n",
        "x2 = np.array([1.0, -0.5, -2.0, -1.5])\n",
        "x3 = np.array([0.0, 1.0, -1.0, 1.5])\n",
        "x4 = np.array([1.0, 1.5, -1.75, -0.5])\n",
        "\n",
        "inp = np.array([x1, x2, x3, x4])    # Shape: (4,4)\n",
        "\n",
        "# Initialize weight vector with zeros\n",
        "weight = np.array([0.0, 0.0, 0.0, 0.0])\n",
        "\n",
        "# Target outputs for each input vector\n",
        "target = np.array([1, 1, 1, 1])\n",
        "\n",
        "print('The modified values in input vectors:')\n",
        "\n",
        "# Hebb learning rate (commonly 1)\n",
        "learning_rate = 1\n",
        "\n",
        "# Loop over all input samples\n",
        "for i in range(len(inp)):\n",
        "    print(f\"Input vector {i+1}: {inp[i]}\")\n",
        "    # Weight update rule: w_new = w_old + learning_rate * target * input_vector\n",
        "    weight += learning_rate * target[i] * inp[i]\n",
        "    print(f\"Updated weights after input {i+1}: {weight}\\n\")\n",
        "\n",
        "print('Final weights after all updates:', weight)\n"
      ],
      "metadata": {
        "colab": {
          "base_uri": "https://localhost:8080/"
        },
        "id": "02HSnwtpEZm4",
        "outputId": "88858de8-1b9c-4a68-92f2-1fb1156f8a10"
      },
      "execution_count": 2,
      "outputs": [
        {
          "output_type": "stream",
          "name": "stdout",
          "text": [
            "The modified values in input vectors:\n",
            "Input vector 1: [ 1.  -2.   1.5  0. ]\n",
            "Updated weights after input 1: [ 1.  -2.   1.5  0. ]\n",
            "\n",
            "Input vector 2: [ 1.  -0.5 -2.  -1.5]\n",
            "Updated weights after input 2: [ 2.  -2.5 -0.5 -1.5]\n",
            "\n",
            "Input vector 3: [ 0.   1.  -1.   1.5]\n",
            "Updated weights after input 3: [ 2.  -1.5 -1.5  0. ]\n",
            "\n",
            "Input vector 4: [ 1.    1.5  -1.75 -0.5 ]\n",
            "Updated weights after input 4: [ 3.    0.   -3.25 -0.5 ]\n",
            "\n",
            "Final weights after all updates: [ 3.    0.   -3.25 -0.5 ]\n"
          ]
        }
      ]
    }
  ]
}