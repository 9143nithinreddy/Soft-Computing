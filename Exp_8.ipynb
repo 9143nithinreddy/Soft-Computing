{
  "nbformat": 4,
  "nbformat_minor": 0,
  "metadata": {
    "colab": {
      "provenance": [],
      "toc_visible": true,
      "authorship_tag": "ABX9TyMaZ+fYmVVGRaEJ2F0Qxrza",
      "include_colab_link": true
    },
    "kernelspec": {
      "name": "python3",
      "display_name": "Python 3"
    },
    "language_info": {
      "name": "python"
    }
  },
  "cells": [
    {
      "cell_type": "markdown",
      "metadata": {
        "id": "view-in-github",
        "colab_type": "text"
      },
      "source": [
        "<a href=\"https://colab.research.google.com/github/9143nithinreddy/Soft-Computing/blob/main/Exp_8.ipynb\" target=\"_parent\"><img src=\"https://colab.research.google.com/assets/colab-badge.svg\" alt=\"Open In Colab\"/></a>"
      ]
    },
    {
      "cell_type": "code",
      "execution_count": 1,
      "metadata": {
        "colab": {
          "base_uri": "https://localhost:8080/"
        },
        "id": "wXvjBLAm6oCx",
        "outputId": "0f80d2bc-3bd1-45d6-9eba-707c4adfbbdd"
      },
      "outputs": [
        {
          "output_type": "stream",
          "name": "stdout",
          "text": [
            "Updated Weights:\n",
            "w_x1_z1: 0.5026, w_x2_z1: -0.1000, w_bias_z1: 0.2026\n",
            "w_x1_z2: -0.5980, w_x2_z2: 0.7000, w_bias_z2: 0.4020\n",
            "w_z1_y: 0.3263, w_z2_y: 0.2178, w_bias_y: -0.3606\n"
          ]
        }
      ],
      "source": [
        "import numpy as np\n",
        "\n",
        "# Sigmoid function\n",
        "def sigmoid(x):\n",
        "    return 1 / (1 + np.exp(-x))\n",
        "\n",
        "def sigmoid_derivative(x):\n",
        "    return x * (1 - x)\n",
        "\n",
        "# Learning rate\n",
        "alpha = 0.3\n",
        "\n",
        "# Inputs\n",
        "x = np.array([1, 0])\n",
        "\n",
        "# Target\n",
        "target = 1\n",
        "\n",
        "# Initial weights from diagram\n",
        "w_x1_z1, w_x2_z1, w_bias_z1 = 0.5, -0.1, 0.2\n",
        "w_x1_z2, w_x2_z2, w_bias_z2 = -0.6, 0.7, 0.4\n",
        "w_z1_y, w_z2_y, w_bias_y = 0.3, 0.2, -0.4\n",
        "\n",
        "# --- Forward pass ---\n",
        "z1_in = w_x1_z1 * x[0] + w_x2_z1 * x[1] + w_bias_z1 * 1\n",
        "z1 = sigmoid(z1_in)\n",
        "\n",
        "z2_in = w_x1_z2 * x[0] + w_x2_z2 * x[1] + w_bias_z2 * 1\n",
        "z2 = sigmoid(z2_in)\n",
        "\n",
        "y_in = w_z1_y * z1 + w_z2_y * z2 + w_bias_y * 1\n",
        "y = sigmoid(y_in)\n",
        "\n",
        "# --- Backpropagation ---\n",
        "delta_y = (target - y) * sigmoid_derivative(y)\n",
        "delta_z1 = sigmoid_derivative(z1) * delta_y * w_z1_y\n",
        "delta_z2 = sigmoid_derivative(z2) * delta_y * w_z2_y\n",
        "\n",
        "# --- Update weights ---\n",
        "w_z1_y_new = w_z1_y + alpha * delta_y * z1\n",
        "w_z2_y_new = w_z2_y + alpha * delta_y * z2\n",
        "w_bias_y_new = w_bias_y + alpha * delta_y * 1\n",
        "\n",
        "w_x1_z1_new = w_x1_z1 + alpha * delta_z1 * x[0]\n",
        "w_x2_z1_new = w_x2_z1 + alpha * delta_z1 * x[1]\n",
        "w_bias_z1_new = w_bias_z1 + alpha * delta_z1 * 1\n",
        "\n",
        "w_x1_z2_new = w_x1_z2 + alpha * delta_z2 * x[0]\n",
        "w_x2_z2_new = w_x2_z2 + alpha * delta_z2 * x[1]\n",
        "w_bias_z2_new = w_bias_z2 + alpha * delta_z2 * 1\n",
        "\n",
        "# --- Print updated weights ---\n",
        "print(\"Updated Weights:\")\n",
        "print(f\"w_x1_z1: {w_x1_z1_new:.4f}, w_x2_z1: {w_x2_z1_new:.4f}, w_bias_z1: {w_bias_z1_new:.4f}\")\n",
        "print(f\"w_x1_z2: {w_x1_z2_new:.4f}, w_x2_z2: {w_x2_z2_new:.4f}, w_bias_z2: {w_bias_z2_new:.4f}\")\n",
        "print(f\"w_z1_y: {w_z1_y_new:.4f}, w_z2_y: {w_z2_y_new:.4f}, w_bias_y: {w_bias_y_new:.4f}\")\n"
      ]
    }
  ]
}