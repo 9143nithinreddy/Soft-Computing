{
  "nbformat": 4,
  "nbformat_minor": 0,
  "metadata": {
    "colab": {
      "provenance": [],
      "authorship_tag": "ABX9TyNujul4J3Ux8rNPMxcDuTCv",
      "include_colab_link": true
    },
    "kernelspec": {
      "name": "python3",
      "display_name": "Python 3"
    },
    "language_info": {
      "name": "python"
    }
  },
  "cells": [
    {
      "cell_type": "markdown",
      "metadata": {
        "id": "view-in-github",
        "colab_type": "text"
      },
      "source": [
        "<a href=\"https://colab.research.google.com/github/9143nithinreddy/Soft-Computing/blob/main/Sc_lab_5.ipynb\" target=\"_parent\"><img src=\"https://colab.research.google.com/assets/colab-badge.svg\" alt=\"Open In Colab\"/></a>"
      ]
    },
    {
      "cell_type": "code",
      "execution_count": 1,
      "metadata": {
        "colab": {
          "base_uri": "https://localhost:8080/"
        },
        "id": "WTX57fGXDXnr",
        "outputId": "fc69d0ff-7b39-410b-e65f-49571f93fae6"
      },
      "outputs": [
        {
          "output_type": "stream",
          "name": "stdout",
          "text": [
            "A B | Output\n",
            "----------\n",
            "0 0 | 1\n",
            "0 1 | 1\n",
            "1 0 | 1\n",
            "1 1 | 0\n"
          ]
        }
      ],
      "source": [
        "def mc_culloch_pitts_AND_NOT(A, B):\n",
        "    # Weights\n",
        "    w1 = 1\n",
        "    w2 = 1\n",
        "\n",
        "    # Threshold\n",
        "    theta = 2\n",
        "\n",
        "    # Weighted sum\n",
        "    net_input = w1 * A + w2 * B\n",
        "\n",
        "    # Activation function (inverted step)\n",
        "    # Output = 1 if net_input < theta else 0\n",
        "    output = 1 if net_input < theta else 0\n",
        "\n",
        "    return output\n",
        "\n",
        "def main():\n",
        "    print(\"A B | Output\")\n",
        "    print(\"----------\")\n",
        "    for A in [0,1]:\n",
        "        for B in [0,1]:\n",
        "            out = mc_culloch_pitts_AND_NOT(A, B)\n",
        "            print(f\"{A} {B} | {out}\")\n",
        "\n",
        "if __name__ == \"__main__\":\n",
        "    main()\n"
      ]
    },
    {
      "cell_type": "code",
      "source": [
        "def neuron(inputs, weights, threshold):\n",
        "    weighted_sum = sum(i * w for i, w in zip(inputs, weights))\n",
        "    return 1 if weighted_sum >= threshold else 0\n"
      ],
      "metadata": {
        "id": "k2eytayjDwFq"
      },
      "execution_count": 2,
      "outputs": []
    },
    {
      "cell_type": "code",
      "source": [
        "def mc_culloch_pitts_xor(A, B):\n",
        "    # Layer 1\n",
        "    # Neuron 1: OR gate\n",
        "    or_output = neuron([A, B], weights=[1, 1], threshold=1)\n",
        "\n",
        "    # Neuron 2: AND gate\n",
        "    and_output = neuron([A, B], weights=[1, 1], threshold=2)\n",
        "\n",
        "    # Layer 2\n",
        "    # Neuron 3: Final output = OR_output AND NOT(and_output)\n",
        "    # For NOT(and_output), we use (1 - and_output)\n",
        "    final_output = neuron([or_output, 1 - and_output], weights=[1, 1], threshold=1)\n",
        "\n",
        "    return final_output\n",
        "\n",
        "def main():\n",
        "    print(\"A B | XOR Output\")\n",
        "    print(\"-------------\")\n",
        "    for A in [0, 1]:\n",
        "        for B in [0, 1]:\n",
        "            output = mc_culloch_pitts_xor(A, B)\n",
        "            print(f\"{A} {B} | {output}\")\n",
        "\n",
        "if __name__ == \"__main__\":\n",
        "    main()\n"
      ],
      "metadata": {
        "colab": {
          "base_uri": "https://localhost:8080/"
        },
        "id": "LC8KamgHD1b-",
        "outputId": "14e79ec5-331a-44aa-d51e-8e029518b767"
      },
      "execution_count": 3,
      "outputs": [
        {
          "output_type": "stream",
          "name": "stdout",
          "text": [
            "A B | XOR Output\n",
            "-------------\n",
            "0 0 | 1\n",
            "0 1 | 1\n",
            "1 0 | 1\n",
            "1 1 | 1\n"
          ]
        }
      ]
    }
  ]
}