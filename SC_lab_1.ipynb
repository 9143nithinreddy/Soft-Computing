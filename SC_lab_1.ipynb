{
  "nbformat": 4,
  "nbformat_minor": 0,
  "metadata": {
    "colab": {
      "provenance": [],
      "authorship_tag": "ABX9TyNz0GA8zm+C47Te3NOkKfOf",
      "include_colab_link": true
    },
    "kernelspec": {
      "name": "python3",
      "display_name": "Python 3"
    },
    "language_info": {
      "name": "python"
    }
  },
  "cells": [
    {
      "cell_type": "markdown",
      "metadata": {
        "id": "view-in-github",
        "colab_type": "text"
      },
      "source": [
        "<a href=\"https://colab.research.google.com/github/9143nithinreddy/Soft-Computing/blob/main/SC_lab_1.ipynb\" target=\"_parent\"><img src=\"https://colab.research.google.com/assets/colab-badge.svg\" alt=\"Open In Colab\"/></a>"
      ]
    },
    {
      "cell_type": "code",
      "execution_count": 1,
      "metadata": {
        "colab": {
          "base_uri": "https://localhost:8080/"
        },
        "id": "MNY_iDdJBmuR",
        "outputId": "591fa6b6-fe7e-4197-e208-6756ada06cab"
      },
      "outputs": [
        {
          "output_type": "stream",
          "name": "stdout",
          "text": [
            "Fuzzy Set A: {0: 0.0, 1: 0.1, 2: 0.4, 3: 0.6, 4: 0.8, 5: 1.0, 6: 0.9, 7: 0.7, 8: 0.5, 9: 0.2, 10: 0.0}\n",
            "Fuzzy Set B: {0: 0.0, 1: 0.3, 2: 0.5, 3: 0.7, 4: 0.9, 5: 0.6, 6: 0.4, 7: 0.2, 8: 0.0, 9: 0.0, 10: 0.0}\n",
            "\n",
            "Union (A ∪ B): {0: 0.0, 1: 0.3, 2: 0.5, 3: 0.7, 4: 0.9, 5: 1.0, 6: 0.9, 7: 0.7, 8: 0.5, 9: 0.2, 10: 0.0}\n",
            "\n",
            "Intersection (A ∩ B): {0: 0.0, 1: 0.1, 2: 0.4, 3: 0.6, 4: 0.8, 5: 0.6, 6: 0.4, 7: 0.2, 8: 0.0, 9: 0.0, 10: 0.0}\n",
            "\n",
            "Complement of A: {0: 1.0, 1: 0.9, 2: 0.6, 3: 0.4, 4: 0.19999999999999996, 5: 0.0, 6: 0.09999999999999998, 7: 0.30000000000000004, 8: 0.5, 9: 0.8, 10: 1.0}\n",
            "\n",
            "Difference (A - B): {0: 0.0, 1: 0.1, 2: 0.4, 3: 0.30000000000000004, 4: 0.09999999999999998, 5: 0.4, 6: 0.6, 7: 0.7, 8: 0.5, 9: 0.2, 10: 0.0}\n"
          ]
        }
      ],
      "source": [
        "def fuzzy_union(A, B):\n",
        "    return {x: max(A[x], B[x]) for x in A}\n",
        "\n",
        "def fuzzy_intersection(A, B):\n",
        "    return {x: min(A[x], B[x]) for x in A}\n",
        "\n",
        "def fuzzy_complement(A):\n",
        "    return {x: 1 - A[x] for x in A}\n",
        "\n",
        "def fuzzy_difference(A, B):\n",
        "    return {x: min(A[x], 1 - B[x]) for x in A}\n",
        "\n",
        "# Define Universe\n",
        "U = list(range(0, 11))\n",
        "\n",
        "# Define Fuzzy Sets\n",
        "A = {0: 0.0, 1: 0.1, 2: 0.4, 3: 0.6, 4: 0.8, 5: 1.0, 6: 0.9, 7: 0.7, 8: 0.5, 9: 0.2, 10: 0.0}\n",
        "B = {0: 0.0, 1: 0.3, 2: 0.5, 3: 0.7, 4: 0.9, 5: 0.6, 6: 0.4, 7: 0.2, 8: 0.0, 9: 0.0, 10: 0.0}\n",
        "\n",
        "# Operations\n",
        "union = fuzzy_union(A, B)\n",
        "intersection = fuzzy_intersection(A, B)\n",
        "complement_A = fuzzy_complement(A)\n",
        "difference = fuzzy_difference(A, B)\n",
        "\n",
        "# Display Results\n",
        "print(\"Fuzzy Set A:\", A)\n",
        "print(\"Fuzzy Set B:\", B)\n",
        "print(\"\\nUnion (A ∪ B):\", union)\n",
        "print(\"\\nIntersection (A ∩ B):\", intersection)\n",
        "print(\"\\nComplement of A:\", complement_A)\n",
        "print(\"\\nDifference (A - B):\", difference)\n"
      ]
    },
    {
      "cell_type": "code",
      "source": [
        "def matrix_to_set(matrix):\n",
        "    \"\"\"Convert a matrix to a set of unique elements.\"\"\"\n",
        "    elements = set()\n",
        "    for row in matrix:\n",
        "        elements.update(row)\n",
        "    return elements\n",
        "\n",
        "def main():\n",
        "    # Define two matrices\n",
        "    matrix1 = [\n",
        "        [1, 2, 3],\n",
        "        [4, 5, 6]\n",
        "    ]\n",
        "\n",
        "    matrix2 = [\n",
        "        [4, 5, 6],\n",
        "        [7, 8, 9]\n",
        "    ]\n",
        "\n",
        "    # Display matrices\n",
        "    print(\"Matrix 1:\")\n",
        "    for row in matrix1:\n",
        "        print(row)\n",
        "\n",
        "    print(\"\\nMatrix 2:\")\n",
        "    for row in matrix2:\n",
        "        print(row)\n",
        "\n",
        "    # Convert matrices to sets\n",
        "    set1 = matrix_to_set(matrix1)\n",
        "    set2 = matrix_to_set(matrix2)\n",
        "\n",
        "    # Perform union and intersection\n",
        "    union_result = set1.union(set2)\n",
        "    intersection_result = set1.intersection(set2)\n",
        "\n",
        "    # Display results\n",
        "    print(\"\\nUnion of Matrix 1 and Matrix 2 (as sets):\")\n",
        "    print(sorted(union_result))  # Sorted for better readability\n",
        "\n",
        "    print(\"\\nIntersection of Matrix 1 and Matrix 2 (as sets):\")\n",
        "    print(sorted(intersection_result))\n",
        "\n",
        "# Run the program\n",
        "main()\n"
      ],
      "metadata": {
        "colab": {
          "base_uri": "https://localhost:8080/"
        },
        "id": "C0AreI01B8jo",
        "outputId": "adee0986-fd6a-4124-a49f-dbc99e9814dd"
      },
      "execution_count": 2,
      "outputs": [
        {
          "output_type": "stream",
          "name": "stdout",
          "text": [
            "Matrix 1:\n",
            "[1, 2, 3]\n",
            "[4, 5, 6]\n",
            "\n",
            "Matrix 2:\n",
            "[4, 5, 6]\n",
            "[7, 8, 9]\n",
            "\n",
            "Union of Matrix 1 and Matrix 2 (as sets):\n",
            "[1, 2, 3, 4, 5, 6, 7, 8, 9]\n",
            "\n",
            "Intersection of Matrix 1 and Matrix 2 (as sets):\n",
            "[4, 5, 6]\n"
          ]
        }
      ]
    }
  ]
}