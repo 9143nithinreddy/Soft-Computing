{
  "nbformat": 4,
  "nbformat_minor": 0,
  "metadata": {
    "colab": {
      "provenance": [],
      "authorship_tag": "ABX9TyOlCmeYal5rPQaf/njcgoBb",
      "include_colab_link": true
    },
    "kernelspec": {
      "name": "python3",
      "display_name": "Python 3"
    },
    "language_info": {
      "name": "python"
    }
  },
  "cells": [
    {
      "cell_type": "markdown",
      "metadata": {
        "id": "view-in-github",
        "colab_type": "text"
      },
      "source": [
        "<a href=\"https://colab.research.google.com/github/9143nithinreddy/Soft-Computing/blob/main/Sc_lab_7.ipynb\" target=\"_parent\"><img src=\"https://colab.research.google.com/assets/colab-badge.svg\" alt=\"Open In Colab\"/></a>"
      ]
    },
    {
      "cell_type": "code",
      "execution_count": 1,
      "metadata": {
        "colab": {
          "base_uri": "https://localhost:8080/"
        },
        "id": "JSWU9koWEzfa",
        "outputId": "e8117e3c-58d8-4776-9fb7-849b04037993"
      },
      "outputs": [
        {
          "output_type": "stream",
          "name": "stdout",
          "text": [
            "Epoch 1\n",
            "Updated weights: [0.  0.1]\n",
            "Updated weights: [0.1 0.1]\n",
            "Updated weights: [0.2 0.2]\n",
            "Epoch 2\n",
            "Updated weights: [0.2 0.3]\n",
            "Updated weights: [0.3 0.3]\n",
            "Epoch 3\n",
            "Updated weights: [0.3 0.4]\n",
            "Updated weights: [0.4 0.4]\n",
            "Epoch 4\n",
            "Updated weights: [0.4 0.5]\n",
            "Updated weights: [0.5 0.5]\n",
            "Epoch 5\n",
            "Updated weights: [0.5 0.6]\n",
            "Updated weights: [0.6 0.6]\n",
            "Epoch 6\n",
            "Training complete - no errors.\n",
            "\n",
            "Testing trained perceptron:\n",
            "Input: [0 0], Output: 0\n",
            "Input: [0 1], Output: 1\n",
            "Input: [1 0], Output: 1\n",
            "Input: [1 1], Output: 1\n"
          ]
        }
      ],
      "source": [
        "import numpy as np\n",
        "\n",
        "# Define the OR input patterns and targets\n",
        "inputs = np.array([\n",
        "    [0, 0],\n",
        "    [0, 1],\n",
        "    [1, 0],\n",
        "    [1, 1]\n",
        "])\n",
        "\n",
        "targets = np.array([0, 1, 1, 1])\n",
        "\n",
        "# Initialize weights and threshold\n",
        "weights = np.zeros(inputs.shape[1])  # weights for 2 inputs\n",
        "threshold = 0.5  # chosen threshold\n",
        "\n",
        "# Learning rate\n",
        "lr = 0.1\n",
        "\n",
        "def perceptron_output(x, weights, threshold):\n",
        "    # Calculate weighted sum\n",
        "    weighted_sum = np.dot(x, weights)\n",
        "    # Apply threshold\n",
        "    return 1 if weighted_sum > threshold else 0\n",
        "\n",
        "# Training loop\n",
        "def train_perceptron(inputs, targets, weights, threshold, lr, epochs=10):\n",
        "    for epoch in range(epochs):\n",
        "        print(f\"Epoch {epoch+1}\")\n",
        "        global_error = 0\n",
        "        for x, target in zip(inputs, targets):\n",
        "            output = perceptron_output(x, weights, threshold)\n",
        "            error = target - output\n",
        "            # Update weights if error != 0\n",
        "            if error != 0:\n",
        "                weights += lr * error * x\n",
        "                print(f\"Updated weights: {weights}\")\n",
        "            global_error += abs(error)\n",
        "        if global_error == 0:\n",
        "            print(\"Training complete - no errors.\")\n",
        "            break\n",
        "    return weights\n",
        "\n",
        "# Train the perceptron\n",
        "final_weights = train_perceptron(inputs, targets, weights, threshold, lr)\n",
        "\n",
        "# Test the trained perceptron\n",
        "print(\"\\nTesting trained perceptron:\")\n",
        "for x in inputs:\n",
        "    output = perceptron_output(x, final_weights, threshold)\n",
        "    print(f\"Input: {x}, Output: {output}\")\n"
      ]
    }
  ]
}