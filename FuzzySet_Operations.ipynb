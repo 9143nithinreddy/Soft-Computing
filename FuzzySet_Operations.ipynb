{
  "nbformat": 4,
  "nbformat_minor": 0,
  "metadata": {
    "colab": {
      "provenance": [],
      "toc_visible": true,
      "authorship_tag": "ABX9TyMcS5gh/c8Q6+XTKtrssA7e",
      "include_colab_link": true
    },
    "kernelspec": {
      "name": "python3",
      "display_name": "Python 3"
    },
    "language_info": {
      "name": "python"
    }
  },
  "cells": [
    {
      "cell_type": "markdown",
      "metadata": {
        "id": "view-in-github",
        "colab_type": "text"
      },
      "source": [
        "<a href=\"https://colab.research.google.com/github/9143nithinreddy/Soft-Computing/blob/main/FuzzySet_Operations.ipynb\" target=\"_parent\"><img src=\"https://colab.research.google.com/assets/colab-badge.svg\" alt=\"Open In Colab\"/></a>"
      ]
    },
    {
      "cell_type": "code",
      "execution_count": null,
      "metadata": {
        "colab": {
          "base_uri": "https://localhost:8080/"
        },
        "id": "gMIREN6ljg8N",
        "outputId": "5f48c51c-ea1a-42b2-e314-6c6d9d4907ed"
      },
      "outputs": [
        {
          "output_type": "stream",
          "name": "stdout",
          "text": [
            "Enter fuzzy set A: 1/2.0 + 0.65/4.0 + 0.5/6.0 + 0.35/8.0 + 0/10.0\n",
            "Enter fuzzy set B: 0/2.0 + 0.35/4.0 + 0.5/6.0 + 0.65/8.0 + 1/10.0\n",
            "\n",
            "Set A:\n",
            "1 / 2.0 + 13/20 / 4.0 + 1/2 / 6.0 + 7/20 / 8.0 + 0 / 10.0\n",
            "\n",
            "Set B:\n",
            "0 / 2.0 + 7/20 / 4.0 + 1/2 / 6.0 + 13/20 / 8.0 + 1 / 10.0\n",
            "\n",
            "Union (A ∪ B):\n",
            "1 / 2.0 + 13/20 / 4.0 + 1/2 / 6.0 + 13/20 / 8.0 + 1 / 10.0\n",
            "\n",
            "Intersection (A ∩ B):\n",
            "0 / 2.0 + 7/20 / 4.0 + 1/2 / 6.0 + 7/20 / 8.0 + 0 / 10.0\n",
            "\n",
            "Complement of A:\n",
            "0 / 2.0 + 7/20 / 4.0 + 1/2 / 6.0 + 13/20 / 8.0 + 1 / 10.0\n",
            "\n",
            "Complement of B:\n",
            "1 / 2.0 + 13/20 / 4.0 + 1/2 / 6.0 + 7/20 / 8.0 + 0 / 10.0\n"
          ]
        }
      ],
      "source": [
        "from fractions import Fraction\n",
        "\n",
        "def parse_fuzzy_input(prompt):\n",
        "    raw = input(prompt)\n",
        "    fuzzy_set = {}\n",
        "    pairs = raw.strip().split('+')\n",
        "    for pair in pairs:\n",
        "        membership, element = pair.strip().split('/')\n",
        "        try:\n",
        "            fuzzy_set[float(element)] = Fraction(membership)\n",
        "        except ValueError:\n",
        "            print(f\"Invalid entry: {pair}. Skipping.\")\n",
        "    return fuzzy_set\n",
        "\n",
        "def fuzzy_union(set1, set2):\n",
        "    return {x: max(set1.get(x, Fraction(0)), set2.get(x, Fraction(0)))\n",
        "            for x in set(set1) | set(set2)}\n",
        "\n",
        "def fuzzy_intersection(set1, set2):\n",
        "    return {x: min(set1.get(x, Fraction(0)), set2.get(x, Fraction(0)))\n",
        "            for x in set(set1) | set(set2)}\n",
        "\n",
        "def fuzzy_complement(fuzzy_set):\n",
        "    return {x: 1 - mu for x, mu in fuzzy_set.items()}\n",
        "\n",
        "def print_fuzzy_set(fuzzy_set, name=\"Result\"):\n",
        "    print(f\"\\n{name}:\")\n",
        "    result = \" + \".join(f\"{mu} / {x}\" for x, mu in sorted(fuzzy_set.items()))\n",
        "    print(result)\n",
        "\n",
        "# Main Program\n",
        "if __name__ == \"__main__\":\n",
        "\n",
        "\n",
        "    setA = parse_fuzzy_input(\"Enter fuzzy set A: \")\n",
        "    setB = parse_fuzzy_input(\"Enter fuzzy set B: \")\n",
        "\n",
        "    union = fuzzy_union(setA, setB)\n",
        "    intersection = fuzzy_intersection(setA, setB)\n",
        "    complementA = fuzzy_complement(setA)\n",
        "    complementB = fuzzy_complement(setB)\n",
        "\n",
        "    print_fuzzy_set(setA, \"Set A\")\n",
        "    print_fuzzy_set(setB, \"Set B\")\n",
        "    print_fuzzy_set(union, \"Union (A ∪ B)\")\n",
        "    print_fuzzy_set(intersection, \"Intersection (A ∩ B)\")\n",
        "    print_fuzzy_set(complementA, \"Complement of A\")\n",
        "    print_fuzzy_set(complementB, \"Complement of B\")\n"
      ]
    }
  ]
}