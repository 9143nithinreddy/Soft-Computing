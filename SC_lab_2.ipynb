{
  "nbformat": 4,
  "nbformat_minor": 0,
  "metadata": {
    "colab": {
      "provenance": [],
      "toc_visible": true,
      "authorship_tag": "ABX9TyOEbEekJj3cUJxgzyGMah/I",
      "include_colab_link": true
    },
    "kernelspec": {
      "name": "python3",
      "display_name": "Python 3"
    },
    "language_info": {
      "name": "python"
    }
  },
  "cells": [
    {
      "cell_type": "markdown",
      "metadata": {
        "id": "view-in-github",
        "colab_type": "text"
      },
      "source": [
        "<a href=\"https://colab.research.google.com/github/9143nithinreddy/Soft-Computing/blob/main/SC_lab_2.ipynb\" target=\"_parent\"><img src=\"https://colab.research.google.com/assets/colab-badge.svg\" alt=\"Open In Colab\"/></a>"
      ]
    },
    {
      "cell_type": "code",
      "execution_count": 2,
      "metadata": {
        "colab": {
          "base_uri": "https://localhost:8080/"
        },
        "id": "TfggIq1wk7KK",
        "outputId": "9fac7a7e-e97c-4f9c-cf30-1a68848925bd"
      },
      "outputs": [
        {
          "output_type": "stream",
          "name": "stdout",
          "text": [
            "First of maximum: (4, 0.8)\n",
            "Last of maximum: (8, 0.8)\n",
            "Middle of maximum: (6, 0.8)\n"
          ]
        }
      ],
      "source": [
        "a = {(2, 0.3), (4, 0.8), (6, 0.8), (8, 0.8), (10, 0.7)}\n",
        "sorted_points = sorted(a, key=lambda p: p[0])\n",
        "max_y = max(y for _, y in sorted_points)\n",
        "max_points = [point for point in sorted_points if point[1] == max_y]\n",
        "first_of_max = max_points[0]\n",
        "last_of_max = max_points[-1]\n",
        "\n",
        "\n",
        "middle_of_max = max_points[len(max_points) // 2]\n",
        "print(\"First of maximum:\", first_of_max)\n",
        "print(\"Last of maximum:\", last_of_max)\n",
        "print(\"Middle of maximum:\", middle_of_max)\n"
      ]
    }
  ]
}